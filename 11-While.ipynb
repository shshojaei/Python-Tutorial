{
 "cells": [
  {
   "cell_type": "markdown",
   "id": "43828ac6-b419-4af3-8c72-4f1d471ee26c",
   "metadata": {},
   "source": [
    "* With the while loop we can execute a set of statements as long as a condition is true."
   ]
  },
  {
   "cell_type": "code",
   "execution_count": 3,
   "id": "7fd3187e-4f1a-42cf-b224-2e8fb68f6e11",
   "metadata": {},
   "outputs": [
    {
     "name": "stdout",
     "output_type": "stream",
     "text": [
      "1\n",
      "2\n",
      "3\n",
      "4\n",
      "5\n"
     ]
    }
   ],
   "source": [
    "i = 1 # The while loop requires relevant variables to be ready, in this example we need to define an indexing variable, i, which we set to 1.\n",
    "\n",
    "while i < 6:\n",
    "  print(i)\n",
    "  i += 1 # Note: remember to increment i, or else the loop will continue forever."
   ]
  },
  {
   "cell_type": "markdown",
   "id": "5b9262db-875e-4e09-a171-5bfd88529696",
   "metadata": {},
   "source": [
    "# The break Statement"
   ]
  },
  {
   "cell_type": "code",
   "execution_count": 4,
   "id": "124e45bc-f553-4134-83d0-8b5514353f5c",
   "metadata": {},
   "outputs": [
    {
     "name": "stdout",
     "output_type": "stream",
     "text": [
      "1\n",
      "2\n",
      "3\n"
     ]
    }
   ],
   "source": [
    "# With the break statement we can stop the loop even if the while condition is true:\n",
    "\n",
    "i = 1\n",
    "\n",
    "while i < 6:\n",
    "  print(i)\n",
    "  if i == 3:\n",
    "    break\n",
    "  i += 1"
   ]
  },
  {
   "cell_type": "markdown",
   "id": "e8d06031-b403-465d-b4f9-4d86bc88272a",
   "metadata": {},
   "source": [
    "# The continue Statement"
   ]
  },
  {
   "cell_type": "code",
   "execution_count": 6,
   "id": "734a18a1-01c8-4274-9732-5643973ba985",
   "metadata": {},
   "outputs": [
    {
     "name": "stdout",
     "output_type": "stream",
     "text": [
      "1\n",
      "2\n",
      "4\n",
      "5\n",
      "6\n"
     ]
    }
   ],
   "source": [
    "# With the continue statement we can stop the current iteration, and continue with the next:\n",
    "\n",
    "i = 0\n",
    "\n",
    "while i < 6:\n",
    "  i += 1\n",
    "  if i == 3:\n",
    "    continue\n",
    "  print(i)"
   ]
  },
  {
   "cell_type": "markdown",
   "id": "21f5c252-f311-4045-ab42-deaef63c723b",
   "metadata": {},
   "source": [
    "# The else Statement"
   ]
  },
  {
   "cell_type": "code",
   "execution_count": 7,
   "id": "3c2814c9-4cf0-49a1-b393-0586a20fde3e",
   "metadata": {},
   "outputs": [
    {
     "name": "stdout",
     "output_type": "stream",
     "text": [
      "1\n",
      "2\n",
      "3\n",
      "4\n",
      "5\n",
      "i is no longer less than 6\n"
     ]
    }
   ],
   "source": [
    "i = 1\n",
    "\n",
    "while i < 6:\n",
    "  print(i)\n",
    "  i += 1\n",
    "else:\n",
    "  print(\"i is no longer less than 6\")"
   ]
  }
 ],
 "metadata": {
  "kernelspec": {
   "display_name": "Python 3 (ipykernel)",
   "language": "python",
   "name": "python3"
  },
  "language_info": {
   "codemirror_mode": {
    "name": "ipython",
    "version": 3
   },
   "file_extension": ".py",
   "mimetype": "text/x-python",
   "name": "python",
   "nbconvert_exporter": "python",
   "pygments_lexer": "ipython3",
   "version": "3.9.18"
  }
 },
 "nbformat": 4,
 "nbformat_minor": 5
}
