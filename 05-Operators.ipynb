{
 "cells": [
  {
   "cell_type": "markdown",
   "id": "6ed2450e-2aba-47fb-b774-71a6adf23404",
   "metadata": {},
   "source": [
    "# Arithmetic Operators"
   ]
  },
  {
   "cell_type": "markdown",
   "id": "1e385daf-f8fd-4cd8-9c5a-50b11aee84e0",
   "metadata": {},
   "source": [
    "Arithmetic operators are used with numeric values to perform common mathematical operations"
   ]
  },
  {
   "cell_type": "raw",
   "id": "4a1bbc57-5271-4e59-91ca-36ac3ef4e333",
   "metadata": {},
   "source": [
    "Operator\tName\t           Example\t\n",
    "+\t        Addition\t        x + y\t\n",
    "-\t        Subtraction\t        x - y\t\n",
    "*\t        Multiplication\t    x * y\t\n",
    "/\t        Division\t        x / y\t\n",
    "%\t        Modulus\t            x % y\t\n",
    "**\t        Exponentiation\t    x ** y\t\n",
    "//\t        Floor division\t    x // y"
   ]
  },
  {
   "cell_type": "markdown",
   "id": "efe9d063-087f-4aa5-bede-636cad544d42",
   "metadata": {},
   "source": [
    "# Assignment Operators"
   ]
  },
  {
   "cell_type": "markdown",
   "id": "d20fc0ee-528e-4576-8f46-c8fa3f6a6439",
   "metadata": {},
   "source": [
    "Assignment operators are used to assign values to variables:"
   ]
  },
  {
   "cell_type": "raw",
   "id": "118b582a-22e3-4e42-b51e-fda5e6ec2060",
   "metadata": {},
   "source": [
    "Operator\tExample\t     Same As\t\n",
    "=\t         x = 5\t     x = 5\t\n",
    "+=\t         x += 3\t     x = x + 3\t\n",
    "-=\t         x -= 3\t     x = x - 3\t\n",
    "*=\t         x *= 3\t     x = x * 3\t\n",
    "/=\t         x /= 3\t     x = x / 3\t\n",
    "%=\t         x %= 3\t     x = x % 3\t\n",
    "//=\t         x //= 3\t x = x // 3\t\n",
    "**=\t         x **= 3\t x = x ** 3\t\n",
    "&=\t         x &= 3\t     x = x & 3\t\n",
    "|=\t         x |= 3\t     x = x | 3\t\n",
    "^=\t         x ^= 3\t     x = x ^ 3\t\n",
    ">>=\t         x >>= 3\t x = x >> 3\t\n",
    "<<=\t         x <<= 3\t x = x << 3\t\n",
    ":=\t         print(x := 3)\tx = 3\n",
    "                            print(x)"
   ]
  },
  {
   "cell_type": "markdown",
   "id": "75961893-2a70-472a-ad0e-4655c1159b4c",
   "metadata": {},
   "source": [
    "# Comparison Operators"
   ]
  },
  {
   "cell_type": "raw",
   "id": "7b7e4440-f4df-4391-926b-6e6e285ec631",
   "metadata": {},
   "source": [
    "Operator\tName\t                    Example\t\n",
    "==\t        Equal\t                    x == y\t\n",
    "!=\t        Not equal\t                x != y\t\n",
    ">\t        Greater than\t            x > y\t\n",
    "<\t        Less than\t                x < y\t\n",
    ">=\t        Greater than or equal to\tx >= y\t\n",
    "<=\t        Less than or equal to\t    x <= y"
   ]
  },
  {
   "cell_type": "markdown",
   "id": "8e50da79-7f0d-46e3-b3d4-d92447d213e4",
   "metadata": {},
   "source": [
    "# Logical Operators"
   ]
  },
  {
   "cell_type": "raw",
   "id": "6a36effc-7d73-4be0-9fb9-4abed203b033",
   "metadata": {},
   "source": [
    "Operator\tExample\t\n",
    "and \t\tx < 5 and  x < 10\t\n",
    "or\t     \tx < 5 or x < 4\t\n",
    "not\t    \tnot(x < 5 and x < 10)"
   ]
  },
  {
   "cell_type": "markdown",
   "id": "9b81d78f-8a54-420b-8a1f-d4f4cfef8177",
   "metadata": {},
   "source": [
    "# Identity Operators"
   ]
  },
  {
   "cell_type": "raw",
   "id": "91607e20-af07-4e86-b72d-7d2b994b0c5e",
   "metadata": {},
   "source": [
    "Operator\tDescription\t                                            Example\t\n",
    "is \t        Returns True if both variables are the same object\t    x is y\t\n",
    "is not\t    Returns True if both variables are not the same object\tx is not y"
   ]
  },
  {
   "cell_type": "markdown",
   "id": "282672ed-10dc-44a5-8a88-e7c5e643dc10",
   "metadata": {},
   "source": [
    "# Membership Operators"
   ]
  },
  {
   "cell_type": "raw",
   "id": "17ceec9a-90d4-48b6-af16-6950f25c417d",
   "metadata": {},
   "source": [
    "Operator\tDescription\t                                                                         Example\t\n",
    "in \t        Returns True if a sequence with the specified value is present in the object\t     x in y\t\n",
    "not in\t    Returns True if a sequence with the specified value is not present in the object\t x not in y"
   ]
  },
  {
   "cell_type": "markdown",
   "id": "ece878ed-d9e2-4cc0-ac23-a61826cb2fc8",
   "metadata": {},
   "source": [
    "# Bitwise Operators"
   ]
  },
  {
   "cell_type": "raw",
   "id": "e5ff7b02-bc74-4bac-aae9-19fb39eadffa",
   "metadata": {},
   "source": [
    "Operator\tName\t                Description\t                                                         Example\n",
    "& \t        AND\t                    Sets each bit to 1 if both bits are 1\t                             x & y\t\n",
    "|\t        OR\t                    Sets each bit to 1 if one of two bits is 1\t                         x | y\t\n",
    "^\t        XOR\t                    Sets each bit to 1 if only one of two bits is 1\t                     x ^ y\t\n",
    "~\t        NOT\t                    Inverts all the bits\t                                             ~x\t\n",
    "<<\t        Zero fill left shift\tShift left by pushing zeros in from the right and let the\n",
    "                                    leftmost bits fall off                                               x << 2\t\n",
    ">>\t       Signed right shift\t    Shift right by pushing copies of the\n",
    "                                    leftmost bit in from the left, and let the rightmost bits fall off\t x >> 2"
   ]
  },
  {
   "cell_type": "markdown",
   "id": "6d847df4-50ce-4687-bbb3-10db22dfbe0f",
   "metadata": {},
   "source": [
    "# Operator Precedence"
   ]
  },
  {
   "cell_type": "raw",
   "id": "f0dc0b7b-1389-4fd0-864a-bf9435e672a5",
   "metadata": {},
   "source": [
    "Operator\t                    Description\n",
    "()\t                            Parentheses\t\n",
    "**\t                            Exponentiation\t\n",
    "+x  -x  ~x\t                    Unary plus, unary minus, and bitwise NOT\t\n",
    "*  /  //  %\t                    Multiplication, division, floor division, and modulus\t\n",
    "+  -\t                        Addition and subtraction\t\n",
    "<<  >>\t                        Bitwise left and right shifts\t\n",
    "&\t                            Bitwise AND\t\n",
    "^\t                            Bitwise XOR\t\n",
    "|\t                            Bitwise OR\t\n",
    "==  !=  >  >=  <  <=  is  is\n",
    "not  in  not in \t            Comparisons, identity, and membership operators\t\n",
    "not\t                            Logical NOT\t\n",
    "and\t                            AND\t\n",
    "or\t                            OR"
   ]
  },
  {
   "cell_type": "code",
   "execution_count": null,
   "id": "33f96772-3e09-4dd4-86e5-7a0b1b0a7126",
   "metadata": {},
   "outputs": [],
   "source": []
  }
 ],
 "metadata": {
  "kernelspec": {
   "display_name": "Python 3 (ipykernel)",
   "language": "python",
   "name": "python3"
  },
  "language_info": {
   "codemirror_mode": {
    "name": "ipython",
    "version": 3
   },
   "file_extension": ".py",
   "mimetype": "text/x-python",
   "name": "python",
   "nbconvert_exporter": "python",
   "pygments_lexer": "ipython3",
   "version": "3.9.18"
  }
 },
 "nbformat": 4,
 "nbformat_minor": 5
}
