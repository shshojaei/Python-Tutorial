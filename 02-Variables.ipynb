{
 "cells": [
  {
   "cell_type": "markdown",
   "id": "8552700a-d206-4afb-a89d-55002f6f0368",
   "metadata": {},
   "source": [
    "# Creating Variables"
   ]
  },
  {
   "cell_type": "markdown",
   "id": "5f9502c1-275c-4414-91fd-60ef77f370ea",
   "metadata": {},
   "source": [
    "A variable is created the moment you first assign a value to it."
   ]
  },
  {
   "cell_type": "code",
   "execution_count": 1,
   "id": "4047fd2b-ca82-4183-97eb-eca38269a293",
   "metadata": {},
   "outputs": [
    {
     "name": "stdout",
     "output_type": "stream",
     "text": [
      "5\n",
      "Shaki\n"
     ]
    }
   ],
   "source": [
    "x = 5        # x is of type int\n",
    "y = \"Shaki\"  # y is of type str\n",
    "\n",
    "print(x)\n",
    "print(y)"
   ]
  },
  {
   "cell_type": "markdown",
   "id": "35014ddc-05f7-4b8a-8d79-b4f0bc66a4ff",
   "metadata": {},
   "source": [
    "# Casting"
   ]
  },
  {
   "cell_type": "code",
   "execution_count": 2,
   "id": "bdbc4980-6d1e-4307-a0d0-73211bfe2520",
   "metadata": {},
   "outputs": [],
   "source": [
    "x = str(3)    # x will be '3'\n",
    "y = int(3)    # y will be 3\n",
    "z = float(3)  # z will be 3.0"
   ]
  },
  {
   "cell_type": "markdown",
   "id": "6fc7137a-2e64-49ba-acf6-e3c6ecdce79c",
   "metadata": {},
   "source": [
    "# Get the Type"
   ]
  },
  {
   "cell_type": "code",
   "execution_count": 5,
   "id": "2c8d6922-4bb5-487b-88fd-41377558fb9e",
   "metadata": {},
   "outputs": [
    {
     "name": "stdout",
     "output_type": "stream",
     "text": [
      "<class 'int'>\n",
      "<class 'str'>\n"
     ]
    }
   ],
   "source": [
    "x = 5\n",
    "y = \"Shaki\"\n",
    "\n",
    "print(type(x))\n",
    "print(type(y))"
   ]
  },
  {
   "cell_type": "markdown",
   "id": "05d05bbc-ea27-4e4b-adea-82b78d5e3413",
   "metadata": {},
   "source": [
    "# Single or Double Quotes?"
   ]
  },
  {
   "cell_type": "markdown",
   "id": "4fc2c754-fcdf-4853-bf73-d9ed707ab0d7",
   "metadata": {},
   "source": [
    "String variables can be declared either by using single or double quotes:"
   ]
  },
  {
   "cell_type": "code",
   "execution_count": 6,
   "id": "4702fe08-8456-4b33-bf97-fad38a529b6c",
   "metadata": {},
   "outputs": [],
   "source": [
    "x = \"Shaki\"\n",
    "# is the same as\n",
    "x = 'Shaki'"
   ]
  },
  {
   "cell_type": "markdown",
   "id": "83c69774-924e-4621-b17b-ff44dd4a786b",
   "metadata": {},
   "source": [
    "# Case-Sensitive"
   ]
  },
  {
   "cell_type": "code",
   "execution_count": 8,
   "id": "92feafc5-3c70-4042-aab4-9f874f7f84ac",
   "metadata": {},
   "outputs": [
    {
     "name": "stdout",
     "output_type": "stream",
     "text": [
      "Sally\n"
     ]
    }
   ],
   "source": [
    "# Variable names are case-sensitive.\n",
    "\n",
    "a = 4\n",
    "A = \"Sally\"\n",
    "print(A)\n",
    "\n",
    "#A will not overwrite a"
   ]
  },
  {
   "cell_type": "markdown",
   "id": "17b0c685-75e7-43ae-b94d-45aa14210a61",
   "metadata": {},
   "source": [
    "# Variable Names"
   ]
  },
  {
   "cell_type": "markdown",
   "id": "e2d41cb3-bfe6-4baf-a01a-7ec32ca38b5d",
   "metadata": {},
   "source": [
    "A variable can have a short name (like x and y) or a more descriptive name (age, carname, total_volume). Rules for Python variables:\n",
    "\n",
    "* A variable name must start with a letter or the underscore character\n",
    "* A variable name cannot start with a number\n",
    "* A variable name can only contain alpha-numeric characters and underscores (A-z, 0-9, and _ )\n",
    "* Variable names are case-sensitive (age, Age and AGE are three different variables)\n",
    "* A variable name cannot be any of the Python keywords."
   ]
  },
  {
   "cell_type": "code",
   "execution_count": 9,
   "id": "d49dcea1-89a6-47f7-8ed6-61f27d033c0f",
   "metadata": {},
   "outputs": [],
   "source": [
    "# Legal variable names:\n",
    "\n",
    "myvar = \"Shaki\"\n",
    "my_var = \"Shaki\"\n",
    "_my_var = \"Shaki\"\n",
    "myVar = \"Shaki\"\n",
    "MYVAR = \"Shaki\"\n",
    "myvar2 = \"Shaki\""
   ]
  },
  {
   "cell_type": "code",
   "execution_count": 10,
   "id": "f13e8d02-2b24-4698-a4e5-2fe200863865",
   "metadata": {},
   "outputs": [],
   "source": [
    "myVariableName = \"Shaki\" # Camel Case\n",
    "MyVariableName = \"Shaki\" # Pascal Case\n",
    "my_variable_name = \"Shaki\" # Snake Case"
   ]
  },
  {
   "cell_type": "markdown",
   "id": "b4908974-b716-4ec3-9fa2-a63b35e11168",
   "metadata": {},
   "source": [
    "# Assign Many Values to Multiple Variables"
   ]
  },
  {
   "cell_type": "code",
   "execution_count": 11,
   "id": "e427003d-8028-4ba5-9b9e-696fe74529d6",
   "metadata": {},
   "outputs": [
    {
     "name": "stdout",
     "output_type": "stream",
     "text": [
      "Orange\n",
      "Banana\n",
      "Cherry\n"
     ]
    }
   ],
   "source": [
    "x, y, z = \"Orange\", \"Banana\", \"Cherry\"\n",
    "print(x)\n",
    "print(y)\n",
    "print(z)"
   ]
  },
  {
   "cell_type": "markdown",
   "id": "b61f4a09-9684-4e0c-a81a-b6ca2bb53c02",
   "metadata": {},
   "source": [
    "# Assign One Value to Multiple Variables"
   ]
  },
  {
   "cell_type": "code",
   "execution_count": 12,
   "id": "205c7b9f-771a-49b0-92be-6847ad753265",
   "metadata": {},
   "outputs": [
    {
     "name": "stdout",
     "output_type": "stream",
     "text": [
      "Orange\n",
      "Orange\n",
      "Orange\n"
     ]
    }
   ],
   "source": [
    "x = y = z = \"Orange\"\n",
    "print(x)\n",
    "print(y)\n",
    "print(z)"
   ]
  },
  {
   "cell_type": "markdown",
   "id": "052dd1b0-2ca5-488f-a758-ea8a61f6b05d",
   "metadata": {},
   "source": [
    "# Unpack a Collection"
   ]
  },
  {
   "cell_type": "code",
   "execution_count": 13,
   "id": "5ad8f675-d109-423f-b6f1-89064a567809",
   "metadata": {},
   "outputs": [
    {
     "name": "stdout",
     "output_type": "stream",
     "text": [
      "apple\n",
      "banana\n",
      "cherry\n"
     ]
    }
   ],
   "source": [
    "fruits = [\"apple\", \"banana\", \"cherry\"]\n",
    "x, y, z = fruits\n",
    "print(x)\n",
    "print(y)\n",
    "print(z)"
   ]
  },
  {
   "cell_type": "markdown",
   "id": "cd29118d-a744-4f21-8596-2346f98e4b82",
   "metadata": {},
   "source": [
    "# Output Variables"
   ]
  },
  {
   "cell_type": "code",
   "execution_count": 14,
   "id": "0d2dd71a-4fbf-4490-b38e-20bb52e9fcd6",
   "metadata": {},
   "outputs": [
    {
     "name": "stdout",
     "output_type": "stream",
     "text": [
      "Python is awesome\n"
     ]
    }
   ],
   "source": [
    "x = \"Python is awesome\"\n",
    "print(x)"
   ]
  },
  {
   "cell_type": "code",
   "execution_count": 15,
   "id": "406ffbdb-5643-4c8b-9cd1-ebd60cb6684b",
   "metadata": {},
   "outputs": [
    {
     "name": "stdout",
     "output_type": "stream",
     "text": [
      "Python is awesome\n"
     ]
    }
   ],
   "source": [
    "x = \"Python\"\n",
    "y = \"is\"\n",
    "z = \"awesome\"\n",
    "\n",
    "print(x, y, z)"
   ]
  },
  {
   "cell_type": "code",
   "execution_count": 16,
   "id": "daa302a1-9517-4a9f-810a-5fe8c275a5c6",
   "metadata": {},
   "outputs": [
    {
     "name": "stdout",
     "output_type": "stream",
     "text": [
      "Python is awesome\n"
     ]
    }
   ],
   "source": [
    "x = \"Python \"\n",
    "y = \"is \"\n",
    "z = \"awesome\"\n",
    "\n",
    "print(x + y + z)"
   ]
  },
  {
   "cell_type": "code",
   "execution_count": 17,
   "id": "6e0abc55-6077-41af-8517-fbfbcdf52205",
   "metadata": {},
   "outputs": [
    {
     "name": "stdout",
     "output_type": "stream",
     "text": [
      "15\n"
     ]
    }
   ],
   "source": [
    "x = 5\n",
    "y = 10\n",
    "\n",
    "print(x + y)"
   ]
  },
  {
   "cell_type": "code",
   "execution_count": 19,
   "id": "64637940-cb9e-4fe4-a319-ef17b29c0d5c",
   "metadata": {},
   "outputs": [
    {
     "name": "stdout",
     "output_type": "stream",
     "text": [
      "5 Shaki\n"
     ]
    }
   ],
   "source": [
    "# The best way to output multiple variables in the print() function is to separate them with commas, which even support different data types:\n",
    "\n",
    "x = 5\n",
    "y = \"Shaki\"\n",
    "\n",
    "print(x, y)"
   ]
  },
  {
   "cell_type": "markdown",
   "id": "3c7ad5a4-8e65-4b75-beec-138c90273e73",
   "metadata": {},
   "source": [
    "# Global Variables"
   ]
  },
  {
   "cell_type": "markdown",
   "id": "4d7c8b63-9384-434b-97ac-a171cc3f1909",
   "metadata": {},
   "source": [
    "Variables that are created outside of a function are known as global variables.\n",
    "\n",
    "Global variables can be used by everyone, both inside of functions and outside."
   ]
  },
  {
   "cell_type": "code",
   "execution_count": 20,
   "id": "eee7a15b-4886-483a-9e16-68655a30205e",
   "metadata": {},
   "outputs": [
    {
     "name": "stdout",
     "output_type": "stream",
     "text": [
      "Python is awesome\n"
     ]
    }
   ],
   "source": [
    "x = \"awesome\"\n",
    "\n",
    "def myfunc():\n",
    "  print(\"Python is \" + x)\n",
    "\n",
    "myfunc()"
   ]
  },
  {
   "cell_type": "markdown",
   "id": "bec49a70-128b-4ae3-ae9d-9200f0346cbc",
   "metadata": {},
   "source": [
    "# Local Variables"
   ]
  },
  {
   "cell_type": "markdown",
   "id": "00b2bc48-e3b4-4e07-afc7-23d0e772ec6a",
   "metadata": {},
   "source": [
    "if you create a variable with the same name inside a function, this variable will be local, and can only be used inside the function.\n",
    "\n",
    "The global variable with the same name will remain as it was, global and with the original value."
   ]
  },
  {
   "cell_type": "code",
   "execution_count": 23,
   "id": "8ab40f72-9584-48e9-8d24-6792b593c8c8",
   "metadata": {},
   "outputs": [
    {
     "name": "stdout",
     "output_type": "stream",
     "text": [
      "Python is fantastic\n",
      "python is awesome\n"
     ]
    }
   ],
   "source": [
    "x = \"awesome\"\n",
    "\n",
    "def myfunc():\n",
    "  x = \"fantastic\"\n",
    "  print(\"Python is \" + x)\n",
    "\n",
    "myfunc()\n",
    "\n",
    "print(\"python is \" + x)"
   ]
  },
  {
   "cell_type": "markdown",
   "id": "04e63dea-1251-4d3b-b9c5-6d0de15c52d9",
   "metadata": {},
   "source": [
    "# The global Keyword"
   ]
  },
  {
   "cell_type": "markdown",
   "id": "e57f5586-c97c-4495-b1b5-6f285671b969",
   "metadata": {},
   "source": [
    "Normally, when you create a variable inside a function, that variable is local, and can only be used inside that function.\n",
    "\n",
    "To create a global variable inside a function, you can use the global keyword."
   ]
  },
  {
   "cell_type": "code",
   "execution_count": 24,
   "id": "3ef79c8d-c08c-4158-abc8-9cd91171c7d1",
   "metadata": {},
   "outputs": [
    {
     "name": "stdout",
     "output_type": "stream",
     "text": [
      "Python is fantastic\n"
     ]
    }
   ],
   "source": [
    "def myfunc():\n",
    "  global x\n",
    "  x = \"fantastic\"\n",
    "\n",
    "myfunc()\n",
    "\n",
    "print(\"Python is \" + x)"
   ]
  },
  {
   "cell_type": "markdown",
   "id": "fd0cae1b-c805-41d7-8600-d6cfa5f28ea5",
   "metadata": {},
   "source": [
    "Also, use the global keyword if you want to change a global variable inside a function."
   ]
  },
  {
   "cell_type": "code",
   "execution_count": 25,
   "id": "f32cec06-d79f-409a-9e30-87250d6a7d8c",
   "metadata": {},
   "outputs": [
    {
     "name": "stdout",
     "output_type": "stream",
     "text": [
      "Python is fantastic\n"
     ]
    }
   ],
   "source": [
    "x = \"awesome\"\n",
    "\n",
    "def myfunc():\n",
    "  global x\n",
    "  x = \"fantastic\"\n",
    "\n",
    "myfunc()\n",
    "\n",
    "print(\"Python is \" + x)"
   ]
  },
  {
   "cell_type": "markdown",
   "id": "52297f03-9b9f-4820-8ae2-91c5cfe9f094",
   "metadata": {},
   "source": [
    "# Random Numbers"
   ]
  },
  {
   "cell_type": "code",
   "execution_count": 26,
   "id": "39ad9427-1c39-455c-91b6-37af2fadd5b8",
   "metadata": {},
   "outputs": [
    {
     "name": "stdout",
     "output_type": "stream",
     "text": [
      "5\n"
     ]
    }
   ],
   "source": [
    "import random\n",
    "\n",
    "print(random.randrange(1, 10))"
   ]
  },
  {
   "cell_type": "code",
   "execution_count": null,
   "id": "3c620435-8e2e-41a4-be5b-0cf4ab836da2",
   "metadata": {},
   "outputs": [],
   "source": []
  }
 ],
 "metadata": {
  "kernelspec": {
   "display_name": "Python 3 (ipykernel)",
   "language": "python",
   "name": "python3"
  },
  "language_info": {
   "codemirror_mode": {
    "name": "ipython",
    "version": 3
   },
   "file_extension": ".py",
   "mimetype": "text/x-python",
   "name": "python",
   "nbconvert_exporter": "python",
   "pygments_lexer": "ipython3",
   "version": "3.9.18"
  }
 },
 "nbformat": 4,
 "nbformat_minor": 5
}
